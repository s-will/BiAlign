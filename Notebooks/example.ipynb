{
 "cells": [
  {
   "cell_type": "markdown",
   "id": "95edc2b8",
   "metadata": {},
   "source": [
    "# Protein bi-alignment with affine gap cost\n",
    "\n",
    "## Python interface"
   ]
  },
  {
   "cell_type": "code",
   "execution_count": null,
   "id": "1f187d5c",
   "metadata": {},
   "outputs": [],
   "source": [
    "import bialignment\n",
    "import bialignment as ba\n",
    "import timeit\n",
    "\n",
    "args = {'type': 'Protein',\n",
    "        'gap_cost': -50,\n",
    "        'gap_opening_cost': -150,\n",
    "        'shift_cost': -150,\n",
    "        'structure_weight': 800,\n",
    "        'max_shift': 1,\n",
    "        'simmatrix': 'BLOSUM62'\n",
    "       }\n",
    "\n",
    "args['nameA'] = 'A'\n",
    "args['nameB'] = 'B'\n",
    "strA = \"CHHHHHHHHHHHHHCCCCTCEEEEEEECCTCEEEEEEEECCC\"\n",
    "seqA = \"RAKLPLKEKKLTATANYHPGIRYIMTGYSAKYIYSSTYARFR\"\n",
    "seqB = \"KAKLPLKEKKLTRTANYHPGIRYIMTGYSAKRIYSSTYAYFR\"\n",
    "strB = \"HHHHHHHHHHHHCCCCCCTCEEEEEEECCCCCEEEEEEEECC\"\n",
    "\n",
    "\n",
    "bialigner = ba.BiAligner(seqA, seqB, strA, strB,\n",
    "                         **args)\n",
    "\n",
    "score = bialigner.optimize()\n",
    "print('SCORE',score)\n",
    "print()\n",
    "\n",
    "for line in bialigner.decode_trace():\n",
    "    print(line)\n",
    "\n",
    "ba.plot_alignment(bialigner.decode_trace_full(),\n",
    "    width = 80,\n",
    "    show_position_numbers=False,\n",
    "    name_offset=3,\n",
    "    #outname = \"example.svg\" #optionally write plot to file\n",
    "    )"
   ]
  },
  {
   "cell_type": "markdown",
   "id": "076b4222",
   "metadata": {},
   "source": [
    "## Command line interface"
   ]
  },
  {
   "cell_type": "code",
   "execution_count": null,
   "id": "24b25903",
   "metadata": {},
   "outputs": [],
   "source": [
    "!bialign.py RAKLPLKEKKLTATANYHPGIRYIMTGYSAKYIYSSTYARFR KAKLPLKEKKLTRTANYHPGIRYIMTGYSAKRIYSSTYAYFR \\\n",
    "  --strA \"CHHHHHHHHHHHHHCCCCTCEEEEEEECCTCEEEEEEEECCC\" --strB \"HHHHHHHHHHHHCCCCCCTCEEEEEEECCCCCEEEEEEEECC\" \\\n",
    "  --type Protein --shift_cost -150 --structure_weight 800 --simmatrix BLOSUM62 --gap_opening_cost -150 \\\n",
    "  --gap_cost -50 --max_shift 1"
   ]
  },
  {
   "cell_type": "markdown",
   "id": "66eaa847",
   "metadata": {},
   "source": [
    "# RNA bi-alignment\n",
    "\n",
    "## Simple example - command line interface\n",
    "\n",
    "This 'toy' example demonstrates a simple helix shift; "
   ]
  },
  {
   "cell_type": "code",
   "execution_count": null,
   "id": "e41fbe60",
   "metadata": {},
   "outputs": [],
   "source": [
    "!bialign.py GCGGGGGAUAUCCCCAUCG GGGGAUAUCCCCAUCG \\\n",
    "    --strA \"...(((.....))).....\" --strB \".(((.....)))....\" \\\n",
    "    --structure 400 \\\n",
    "    --gap_opening_cost -200 --gap_cost -50 \\\n",
    "    --max_shift 1 --shift_cost -150"
   ]
  },
  {
   "cell_type": "markdown",
   "id": "e2419d70",
   "metadata": {},
   "source": [
    "The same but with extended BLAST-like output"
   ]
  },
  {
   "cell_type": "code",
   "execution_count": null,
   "id": "0bab3c59",
   "metadata": {},
   "outputs": [],
   "source": [
    "!bialign.py GCGGGGGAUAUCCCCAUCG GGGGAUAUCCCCAUCG \\\n",
    "    --strA \"...(((.....))).....\" --strB \".(((.....)))....\" \\\n",
    "    --structure 400 \\\n",
    "    --gap_opening_cost -200 --gap_cost -50 \\\n",
    "    --max_shift 1 --shift_cost -150 \\\n",
    "    --outmode sorted"
   ]
  },
  {
   "cell_type": "markdown",
   "id": "543808c1",
   "metadata": {},
   "source": [
    "# Protein bi-alignment"
   ]
  },
  {
   "cell_type": "code",
   "execution_count": null,
   "id": "64739697",
   "metadata": {},
   "outputs": [],
   "source": [
    "!bialign.py RAKLPLKEKKLTATANYHPGIRYIMTGYSAKYIYSSTYARFR KAKLPLKEKKLTRTANYHPGIRYIMTGYSAKRIYSSTYAYFR \\\n",
    "  --strA \"CHHHHHHHHHHHHHCCCCTCEEEEEEECCTCEEEEEEEECCC\" --strB \"HHHHHHHHHHHHCCCCCCTCEEEEEEECCCCCEEEEEEEECC\" \\\n",
    "  --type Protein --shift_cost -150 --structure_weight 800 --simmatrix BLOSUM62 --gap_opening_cost -150 \\\n",
    "  --gap_cost -50 --max_shift 1"
   ]
  },
  {
   "cell_type": "markdown",
   "id": "6685927d",
   "metadata": {},
   "source": [
    "The same but with extended BLAST-like output"
   ]
  },
  {
   "cell_type": "code",
   "execution_count": null,
   "id": "64b535c1",
   "metadata": {},
   "outputs": [],
   "source": [
    "!bialign.py RAKLPLKEKKLTATANYHPGIRYIMTGYSAKYIYSSTYARFR KAKLPLKEKKLTRTANYHPGIRYIMTGYSAKRIYSSTYAYFR \\\n",
    "  --strA \"CHHHHHHHHHHHHHCCCCTCEEEEEEECCTCEEEEEEEECCC\" --strB \"HHHHHHHHHHHHCCCCCCTCEEEEEEECCCCCEEEEEEEECC\" \\\n",
    "  --type Protein --shift_cost -150 --structure_weight 800 --simmatrix BLOSUM62 --gap_opening_cost -150 \\\n",
    "  --gap_cost -50 --max_shift 1 --outmode sorted"
   ]
  }
 ],
 "metadata": {
  "kernelspec": {
   "display_name": "Python 3 (ipykernel)",
   "language": "python",
   "name": "python3"
  },
  "language_info": {
   "codemirror_mode": {
    "name": "ipython",
    "version": 3
   },
   "file_extension": ".py",
   "mimetype": "text/x-python",
   "name": "python",
   "nbconvert_exporter": "python",
   "pygments_lexer": "ipython3",
   "version": "3.9.7"
  }
 },
 "nbformat": 4,
 "nbformat_minor": 5
}

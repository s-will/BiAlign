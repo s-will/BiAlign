{
 "cells": [
  {
   "cell_type": "markdown",
   "id": "28945c50",
   "metadata": {},
   "source": [
    "# Affine protein bi-alignment\n",
    "\n",
    "## Figures for the manuscript \"Bi-Alignments with Affine Gaps Costs\""
   ]
  },
  {
   "cell_type": "code",
   "execution_count": null,
   "id": "e9ec5159",
   "metadata": {},
   "outputs": [],
   "source": [
    "import bialignment\n",
    "import bialignment as ba\n",
    "import timeit\n",
    "import os\n",
    "\n",
    "figuresdir = \"../Figs\"\n",
    "examplesdir = \"../Examples\""
   ]
  },
  {
   "cell_type": "markdown",
   "id": "6ad668e4",
   "metadata": {},
   "source": [
    "### Introductory Example"
   ]
  },
  {
   "cell_type": "code",
   "execution_count": null,
   "id": "02d9e09e",
   "metadata": {},
   "outputs": [],
   "source": [
    "args = {'type': 'Protein',\n",
    "        'gap_cost': -50,\n",
    "        'gap_opening_cost': -200,\n",
    "        'shift_cost': -210,\n",
    "        'structure_weight': 800,\n",
    "        'max_shift': 1,\n",
    "        'simmatrix': 'BLOSUM62',\n",
    "        'nameA': 'Ecoli',\n",
    "        'nameB': 'Xanthomonas',\n",
    "        'nodescription': False,\n",
    "        'outmode': 'full'\n",
    "       }\n",
    "\n",
    "nameA = 'A'\n",
    "nameB = 'B'\n",
    "strA = \"CHHHHHHHHHHHHHCCCCTCEEEEEEECCTCEEEEEEEECCC\"\n",
    "seqA = \"RAKLPLKEKKLTATANYHPGIRYIMTGYSAKYIYSSTYARFR\"\n",
    "seqB = \"KAKLPLKEKKLTRTANYHPGIRYIMTGYSAKRIYSSTYAYFR\"\n",
    "strB = \"HHHHHHHHHHHHCCCCCCTCEEEEEEECCCCCEEEEEEEECC\"\n",
    "\n",
    "ba.plot_alignment([(nameA, seqA), (nameB, seqB), ('',strA), ('',strB)], 80,\n",
    "    name_offset=3, show_position_numbers=False, outname = os.path.join(figuresdir,\"fig1A.svg\"))\n",
    "\n",
    "seqA1 = \"RAKLPLKEKKLTATANYH-PGIRYIMTGYSAK-YIYSSTYARFR\"\n",
    "strA1 = \"CHHHHHHHHHHHHHCCCC-TCEEEEEEECCTC-EEEEEEEECCC\"\n",
    "strB1 = \"-HHHHHHHHHHHHCCCCCCTCEEEEEEECCCCCEEEEEEEECC-\"\n",
    "seqB1 = \"-KAKLPLKEKKLTRTANYHPGIRYIMTGYSAKRIYSSTYAYFR-\"\n",
    "\n",
    "ba.plot_alignment([(nameA, seqA1), (nameB, seqB1), ('',strA1), ('',strB1)], 80,\n",
    "    name_offset=3, show_position_numbers=False, outname = os.path.join(figuresdir,\"fig1B.svg\"))\n",
    "\n",
    "args['nameA'] = 'A'\n",
    "args['nameB'] = 'B'\n",
    "args['max_shift'] = 1\n",
    "args['shift_cost'] = -150\n",
    "args['structure_weight'] = 800\n",
    "args['gap_opening_cost'] = -150\n",
    "args['gap_cost'] = -50\n",
    "\n",
    "print(args)\n",
    "print()\n",
    "\n",
    "bialigner = ba.BiAligner(seqA, seqB, strA, strB,\n",
    "                         **args)\n",
    "\n",
    "score = bialigner.optimize()\n",
    "print('SCORE',score)\n",
    "print()\n",
    "\n",
    "alilines = list(bialigner.decode_trace_full())\n",
    "for i,line in enumerate(alilines):\n",
    "    print(f\"{i:2} {line[0]:18} {line[1]}\")\n",
    "    \n",
    "\n",
    "ba.plot_alignment(alilines, 80, show_position_numbers=False,\n",
    "    name_offset=3, outname = os.path.join(figuresdir,\"fig1-shift.svg\"))"
   ]
  },
  {
   "cell_type": "markdown",
   "id": "1da72a2a",
   "metadata": {},
   "source": [
    "### DNA Polymerase 1"
   ]
  },
  {
   "cell_type": "code",
   "execution_count": null,
   "id": "9fb42b4d",
   "metadata": {},
   "outputs": [],
   "source": [
    "import bialignment\n",
    "import bialignment as ba\n",
    "import timeit\n",
    "\n",
    "args = {'type': 'Protein',\n",
    "        'gap_cost': -50,\n",
    "        'gap_opening_cost': -200,\n",
    "        'shift_cost': -210,\n",
    "        'structure_weight': 800,\n",
    "        'max_shift': 1,\n",
    "        'simmatrix': 'BLOSUM62',\n",
    "        'nameA': 'Ecoli',\n",
    "        'nameB': 'Xanthomonas',\n",
    "        'nodescription': False,\n",
    "        'outmode': 'full'\n",
    "       }\n",
    "\n",
    "inputfiles = ['DNAPolymerase1_Escherichia.cfssp', 'DNAPolymerase1_Xanthomonas.cfssp']\n",
    "inputfiles = [os.path.join(examplesdir,f) for f in inputfiles]\n",
    "\n",
    "input = [ ba.read_molecule_from_file(f, type=\"Protein\") for f in inputfiles ]\n",
    "\n",
    "# optionally, truncate input\n",
    "for x in input:\n",
    "    for i in range(2):\n",
    "        x[i] = x[i][:] # define how to truncate here\n",
    "\n",
    "print(len(input[0][0]))\n",
    "print(len(input[1][0]))\n",
    "#print(input)"
   ]
  },
  {
   "cell_type": "code",
   "execution_count": null,
   "id": "8e924df7",
   "metadata": {},
   "outputs": [],
   "source": [
    "remake = False\n",
    "%store -r stored_alilines\n",
    "try:\n",
    "    print(stored_alilines.keys())\n",
    "except:\n",
    "    stored_alilines = dict()\n"
   ]
  },
  {
   "cell_type": "code",
   "execution_count": null,
   "id": "8709868d",
   "metadata": {},
   "outputs": [],
   "source": [
    "for ms in range(3):\n",
    "    if not remake and (f'max_shift {ms}') in stored_alilines:\n",
    "        continue\n",
    "        \n",
    "    args[\"max_shift\"] = ms\n",
    "\n",
    "    bialigner = ba.BiAligner(input[0][0],input[1][0],\n",
    "                             input[0][1],input[1][1], \n",
    "                             **args)\n",
    "\n",
    "    score = timeit.timeit(lambda:bialigner.optimize(),number=1)\n",
    "    print(score)\n",
    "    als = list(bialigner.decode_trace_full())\n",
    "    for i,line in enumerate(alilines):\n",
    "        print(f\"{i:2} {line[0]:12} {line[1]}\")\n",
    "\n",
    "    stored_alilines[(f'max_shift {ms}')] = als\n",
    "%store stored_alilines"
   ]
  },
  {
   "cell_type": "code",
   "execution_count": null,
   "id": "22d79718",
   "metadata": {},
   "outputs": [],
   "source": [
    "alilines = stored_alilines['max_shift 2']\n",
    "\n",
    "aliblocks = ba.breaklines(alilines, 80)\n",
    "for block in aliblocks:\n",
    "    for i,(name,aliline) in enumerate(block):\n",
    "        print(f\"{i:2} {name:18} {aliline}\")\n",
    "    print()   "
   ]
  },
  {
   "cell_type": "code",
   "execution_count": null,
   "id": "5c33620b",
   "metadata": {},
   "outputs": [],
   "source": [
    "for s in range(3):\n",
    "    alilines = stored_alilines[f'max_shift {s}']\n",
    "    ba.plot_alignment(alilines, 80, outname=os.path.join(figuresdir,f\"dnapoly1-ms{s}-sc-210-sw800.svg\"))"
   ]
  }
 ],
 "metadata": {
  "kernelspec": {
   "display_name": "Python 3 (ipykernel)",
   "language": "python",
   "name": "python3"
  },
  "language_info": {
   "codemirror_mode": {
    "name": "ipython",
    "version": 3
   },
   "file_extension": ".py",
   "mimetype": "text/x-python",
   "name": "python",
   "nbconvert_exporter": "python",
   "pygments_lexer": "ipython3",
   "version": "3.9.7"
  }
 },
 "nbformat": 4,
 "nbformat_minor": 5
}
